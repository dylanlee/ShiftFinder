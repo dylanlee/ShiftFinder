{
 "cells": [
  {
   "cell_type": "markdown",
   "id": "9e5b6184",
   "metadata": {},
   "source": [
    "## Analyze and visualize Ai map"
   ]
  },
  {
   "cell_type": "code",
   "execution_count": null,
   "id": "485c4aa8",
   "metadata": {},
   "outputs": [],
   "source": [
    "import dask as da\n",
    "from dask import array\n",
    "import numpy as np\n",
    "import matplotlib.pyplot as plt\n",
    "from matplotlib.animation import FuncAnimation\n",
    "import h5py\n",
    "import avul\n",
    "import importlib\n",
    "from scipy import ndimage\n",
    "import scipy.misc\n",
    "import skimage.measure\n",
    "import rasterio\n",
    "import csv\n",
    "from multiprocessing.pool import ThreadPool\n",
    "from skimage.measure import block_reduce\n",
    "from skimage.measure import regionprops"
   ]
  },
  {
   "cell_type": "markdown",
   "id": "f89a94dd",
   "metadata": {},
   "source": [
    "### Load and plot Ai map\n",
    "Cell below loads the Ai map of the study area created in the \"RunTiles.ipynb\" notebook. This is then plotted. The array \"CutActLevIm\" can also be plotted as a way to visualize areas above a threshold Ai value.\n",
    "\n",
    "The output of this cell was used in part to create figure 8a and 8b of the paper. For figure 8b a slightly modified version was used to zoom into the the high activity level area pictured."
   ]
  },
  {
   "cell_type": "code",
   "execution_count": null,
   "id": "00bbdd77",
   "metadata": {},
   "outputs": [],
   "source": [
    "%matplotlib notebook\n",
    "data = np.load('../Data/DeepWaterAndManualMasked365PxAltiPlanoStride60.npz')\n",
    "ActLevIm = data['ActLevIm']\n",
    "CutActLevIm = ActLevIm * (ActLevIm >= 12) #Display Ai values greater than or equal to a certain value\n",
    "plt.imshow(CutActLevIm)\n",
    "#plt.colorbar()\n",
    "#plt.savefig(\"AiMapZoomedIn.png\",dpi=350)"
   ]
  },
  {
   "cell_type": "markdown",
   "id": "61fa4a82",
   "metadata": {},
   "source": [
    "## Load test region and mask and compute windows\n",
    "This is the same script that loads the test region and mask in \"RunTiles.ipynb\". Disregard the checking output this time around"
   ]
  },
  {
   "cell_type": "code",
   "execution_count": null,
   "id": "cbf46794",
   "metadata": {},
   "outputs": [],
   "source": [
    "%run -i 'loadregionandmask.py'"
   ]
  },
  {
   "cell_type": "markdown",
   "id": "9bdcb73b",
   "metadata": {},
   "source": [
    "### Get geotransform for test region\n",
    "The first cell below is the geotransform for the full study area used in the paper. Run this cell if you are using the full study area. The second cell below is the geotransform for the small test area. Run the second cell if you are running the small test area.\n",
    "\n",
    "This transform is used to get the geographical centers of the A_i regions that will be found later on in this notebook."
   ]
  },
  {
   "cell_type": "code",
   "execution_count": null,
   "id": "3c9d8450",
   "metadata": {},
   "outputs": [],
   "source": [
    "left = -68.91852401882868\n",
    "bottom = -17.576032607204688 \n",
    "right = -64.50312473432442\n",
    "top = -13.160633322700418\n",
    "NewTran = rasterio.transform.from_bounds(left, bottom, right, top, 16384, 16384)"
   ]
  },
  {
   "cell_type": "code",
   "execution_count": null,
   "id": "53608cc1",
   "metadata": {},
   "outputs": [],
   "source": [
    "left = -68.91852401882868\n",
    "bottom = -14.633151736429138 \n",
    "right = -67.44600560509997\n",
    "top = -13.160633322700418\n",
    "NewTran = rasterio.transform.from_bounds(left, bottom, right, top, 16384, 16384)"
   ]
  },
  {
   "cell_type": "code",
   "execution_count": null,
   "id": "080d5c88",
   "metadata": {},
   "outputs": [],
   "source": [
    "from IPython.core.debugger import set_trace\n",
    "from PIL import Image\n",
    "#Write video of all the areas that have greater than or equal to a certain active level\n",
    "#Can then watch this video for different sections to look for cutoffs and avulsions in the active level 1 regions\n",
    "MaxActLevThresh = 12\n",
    "ActLevThresh = 2\n",
    "CutActLevIm = ActLevIm * (ActLevIm >= ActLevThresh)\n",
    "LabCutIm,tra = ndimage.measurements.label(CutActLevIm,structure=np.ones((3,3)))\n",
    "labels = np.unique(LabCutIm[np.where(LabCutIm)])\n",
    "CurLevRng = []\n",
    "CurLevPts = []\n",
    "total_number_of_frames = 34\n",
    "#empty array of region id's and latitude's and longitude's. Right now only write for active level 2\n",
    "ActLevRegLocs = []\n",
    "AllRegAreas = [{},{},{},{},{},{},{},{},{},{},{},{}]\n",
    "#there needs to be the same number of active levels as there are areas\n",
    "for y in range(labels.size):\n",
    "    #initialize ghetto way to turn 3d numpy array into list of 2d arrays. \n",
    "    allFrames = []\n",
    "    print(\"current label\")\n",
    "    print(y)\n",
    "    #Binary \n",
    "    #set_trace()\n",
    "    CurLabIm = LabCutIm * (LabCutIm == labels[y])\n",
    "    CurLabIm[CurLabIm == np.max(CurLabIm)] = 1\n",
    "    CurRegActIm = ActLevIm * CurLabIm\n",
    "    \n",
    "    #reset ActLevThresh for next region\n",
    "    ActLevThresh = 2\n",
    "    while CurRegActIm.any():\n",
    "        #plt.imshow(CurLabIm)\n",
    "        #for this analysis need to cut out bounding box to get all points in region      \n",
    "        props = regionprops(CurLabIm.astype('int32'))\n",
    "        maxLoc = tuple(np.subtract(props[0].bbox[2:4],1))\n",
    "        minLoc = tuple(props[0].bbox[0:2])\n",
    "        flRanMax = np.max(SubWins[maxLoc])\n",
    "        flRanMin = np.min(SubWins[minLoc])\n",
    "        RangesMaxMin = [np.unravel_index(flRanMax,WinShape),np.unravel_index(flRanMin,WinShape)]\n",
    "        SubIm = Im[:,RangesMaxMin[1][0]:RangesMaxMin[0][0]+1,RangesMaxMin[1][1]:RangesMaxMin[0][1]+1].astype('uint8')\n",
    "        #get center of region on the inside the actual surface water image\n",
    "        #set_trace()\n",
    "        regcent = (np.round(RangesMaxMin[1][0]+(SubIm.shape[1]/2)),np.round(RangesMaxMin[1][1]+(SubIm.shape[2]/2)))\n",
    "        \n",
    "        #get real world location\n",
    "        longlat = rasterio.transform.xy(NewTran, regcent[0], regcent[1], offset='center')\n",
    "\n",
    "        SubMask = mask[RangesMaxMin[1][0]:RangesMaxMin[0][0]+1,RangesMaxMin[1][1]:RangesMaxMin[0][1]+1].astype('uint8')\n",
    "        #GetReg returns the fluvial components in the region \n",
    "        #set_trace()\n",
    "        ComIm = GetReg(SubIm,SubMask)\n",
    "\n",
    "        RegDim = ComIm.shape\n",
    "\n",
    "        #write each layer in the image as a seperate image so you can view as a video in imagej\n",
    "        for x in range(ComIm.shape[0]):\n",
    "            fr = ComIm[x,:,:]\n",
    "            allFrames.append(fr)\n",
    "\n",
    "        # Now we can do the plotting!\n",
    "        all_data = allFrames\n",
    "        fig, ax = plt.subplots(1, figsize=(4, 4))\n",
    "        # Remove a bunch of stuff to make sure we only 'see' the actual imshow\n",
    "        # Stretch to fit the whole plane\n",
    "        fig.subplots_adjust(0, 0, 1, 1)\n",
    "        # Remove bounding line\n",
    "        ax.axis(\"off\")\n",
    "        # Initialise our plot. Make sure you set vmin and vmax to the active level range!\n",
    "        image = ax.imshow(all_data[0], vmin=0, vmax=1)\n",
    "        animation = FuncAnimation(fig,animate,np.arange(total_number_of_frames),fargs=[],interval=1000 / 5)\n",
    "        # Try to set the DPI to the actual number of pixels you're plotting\n",
    "        #save line for saving on local computer\n",
    "        #animation.save(\"/home/dylan/GlobalAvulsion/GlobalAvulsionData/TestRegionResults/AltiPlanocornerActLev\"+ str(ActLevThresh) + 'Reg'+ str(y).zfill(2)+\".mp4\", dpi=512)\n",
    "        #gcloud save line\n",
    "        animation.save(\"./ActLev\"+ str(ActLevThresh) + '/' + 'Reg'+ str(y).zfill(3)+\"ActLev\"+str(ActLevThresh)+\n",
    "                       \"row\"+str(maxLoc[0])+\"col\"+str(maxLoc[1])+\".avi\", dpi=512)\n",
    "        \n",
    "        #append the region information to a list containing the region id + lat and long of that region\n",
    "        #if ActLevThresh == 2:\n",
    "        #    ActLevRegLocs.append('Reg'+ str(y).zfill(3)+\"ActLev\"+str(ActLevThresh) + \" Latitude:\" + str(longlat[1]) + \" Longitude:\" + str(longlat[0]))\n",
    "        \n",
    "        #write\n",
    "        AllRegAreas[ActLevThresh-1][y] = RegDim[1]*RegDim[2]\n",
    "        #raise threshold for next iteration of this region\n",
    "        ActLevThresh = ActLevThresh + 1\n",
    "        #set_trace()\n",
    "        CurRegActIm = CurRegActIm * (CurRegActIm >= ActLevThresh)\n",
    "        #print(\"maximum active level for region\")\n",
    "        #print(np.max(CurRegActIm))\n",
    "        BinCurRegActIm = CurRegActIm.copy()\n",
    "        BinCurRegActIm[BinCurRegActIm >= 2] = 1\n",
    "        CurLabIm = BinCurRegActIm\n",
    "        "
   ]
  },
  {
   "cell_type": "code",
   "execution_count": null,
   "id": "406cab21",
   "metadata": {},
   "outputs": [],
   "source": [
    "#code snippet to save the areas of all the regions you've recorded to a seperate csv file for each active level\n",
    "for x in range(12):\n",
    "    # define a dictionary with key value pairs\n",
    "    CurAreadict = AllRegAreas[x]\n",
    "    # open file for writing, \"w\" is writing\n",
    "    myfile = open(\"ActLev\" + str(x+1) + \"areas.csv\",'w')\n",
    "    w = csv.writer(myfile)\n",
    "    # loop over dictionary keys and values\n",
    "    for key, val in CurAreadict.items():\n",
    "        # write every key and value to file. Convert to units of km^2\n",
    "        w.writerow([key, val*0.0009])\n",
    "        myfile.flush()"
   ]
  },
  {
   "cell_type": "code",
   "execution_count": null,
   "id": "98d6d86e",
   "metadata": {},
   "outputs": [],
   "source": [
    "%matplotlib notebook\n",
    "#plot the final results of the region analysis.\n",
    "fig, (ax1, ax2, ax3) = plt.subplots(1,3,figsize=(12.5,4))\n",
    "plt.rc('text', usetex=True)\n",
    "plt.rc('font', family='serif')\n",
    "ax1.scatter(np.asarray([12,11,10,9,8,7,6,5,4,3,2]),np.asarray([1,1,1,1,1,.75,.73,.72,.75,.72,.58]))\n",
    "ax1.set_xlim(12, 1)\n",
    "ax1.set_xlabel('Threshold $A_i$',fontsize=14)\n",
    "ax1.set_ylabel('fraction of regions containing event',fontsize=14)\n",
    "ax1.tick_params(axis='both', labelsize=12)\n",
    "\n",
    "ax2.scatter(np.asarray([12,11,10,9,8,7,6,5,4,3,2]),np.asarray([199,358,378,557,826,3397,4668,10516,18406,28955,54569]))\n",
    "ax2.set_xlim(12, 1)\n",
    "ax2.set_xlabel('Threshold $A_i$',fontsize=14)\n",
    "ax2.set_ylabel('Total area of regions ($km^2$)',fontsize=14)\n",
    "ax2.tick_params(axis='both', labelsize=12)\n",
    "\n",
    "#plot event density per km^2 for the different active levels\n",
    "ax3.scatter(np.asarray([12,11,10,9,8,7,6,5,4,3,2]),np.asarray([.015,.02,.019,.016,.017,.009,.008,.01,.007,.005,.005])*100)\n",
    "ax3.set_xlabel('Threshold $A_i$',fontsize=14)\n",
    "ax3.set_ylabel('events per 100 $km^2$',fontsize=14)\n",
    "ax3.set_xlim(12, 1)\n",
    "ax3.tick_params(axis='both', labelsize=12)\n",
    "\n",
    "plt.tight_layout()\n",
    "plt.savefig(\"RegionResultPlots.png\",dpi=350)"
   ]
  },
  {
   "cell_type": "code",
   "execution_count": null,
   "id": "b76afea3",
   "metadata": {},
   "outputs": [],
   "source": [
    "#plot an example of #of endtimes stabalizing as you increase the step length l. This is currently figure _\n",
    "stepL = np.asarray([1.732,3.464,5.196,6.928,8.660,10.392,12.124,13.856,15.588,17.320,19.052,20.784,22.516])\n",
    "Ai = np.asarray([35,35,31,30,28,24,17,14,10,10,10,10,10])\n",
    "plt.scatter(stepL,Ai)\n",
    "plt.rc('text', usetex=True)\n",
    "plt.rc('font', family='serif')\n",
    "plt.ylabel('$A_i$',fontsize=14)\n",
    "plt.xlabel('step length $l$',fontsize=14)\n",
    "plt.tick_params(axis='both', labelsize=12)\n",
    "plt.savefig(\"AiStablizingPlot.png\",dpi=350)"
   ]
  },
  {
   "cell_type": "code",
   "execution_count": null,
   "id": "c59024c6",
   "metadata": {},
   "outputs": [],
   "source": [
    "#code snippet for figure 8 panel c\n",
    "%matplotlib inline\n",
    "for x in range(35):\n",
    "    colIm = ComIm[x]\n",
    "    colIm[colIm==1] = x\n",
    "    plt.imshow(SubIm[x],alpha=.1,cmap='viridis')\n",
    "plt.savefig(\"Figure8PanelC.png\",dpi=350)"
   ]
  },
  {
   "cell_type": "code",
   "execution_count": null,
   "id": "705f90e3",
   "metadata": {},
   "outputs": [],
   "source": [
    "# code for figure 9\n",
    "%matplotlib inline\n",
    "CutActLevIm6 = ActLevIm * (ActLevIm >= 6)\n",
    "CutActLevIm4 = ActLevIm * (ActLevIm >= 4)\n",
    "CutActLevIm2 = ActLevIm * (ActLevIm >= 2)\n",
    "fig, (ax1, ax2, ax3) = plt.subplots(1, 3)\n",
    "ax1.imshow((CutActLevIm6 > 0).astype(int))\n",
    "ax2.imshow((CutActLevIm4 > 0).astype(int))\n",
    "ax3.imshow((CutActLevIm2 > 0).astype(int))\n",
    "plt.tight_layout()\n",
    "plt.savefig(\"Fig9PlotsUnlabeled.png\",dpi=350)\n",
    "\n",
    "\n",
    "#if you want to use a colorbar\n",
    "#subplot(1, 3, 1)\n",
    "#plt.imshow((LabCutIm > 0).astype(int),vmin=0, vmax=1, cmap='viridis', aspect='auto')\n",
    "#plt.colorbar()"
   ]
  },
  {
   "cell_type": "code",
   "execution_count": null,
   "id": "c8dac32d",
   "metadata": {},
   "outputs": [],
   "source": []
  }
 ],
 "metadata": {
  "kernelspec": {
   "display_name": "Python 3",
   "language": "python",
   "name": "python3"
  },
  "language_info": {
   "codemirror_mode": {
    "name": "ipython",
    "version": 3
   },
   "file_extension": ".py",
   "mimetype": "text/x-python",
   "name": "python",
   "nbconvert_exporter": "python",
   "pygments_lexer": "ipython3",
   "version": "3.8.8"
  }
 },
 "nbformat": 4,
 "nbformat_minor": 5
}
