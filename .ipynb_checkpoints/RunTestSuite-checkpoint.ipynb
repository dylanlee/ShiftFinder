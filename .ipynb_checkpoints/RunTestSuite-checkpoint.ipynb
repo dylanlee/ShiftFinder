{
 "cells": [
  {
   "cell_type": "code",
   "execution_count": 1,
   "metadata": {
    "id": "mLwKG-kVbVX1"
   },
   "outputs": [],
   "source": [
    "import numpy as np\n",
    "import matplotlib.pyplot as plt\n",
    "import sklearn.neighbors\n",
    "import scipy\n",
    "from scipy import ndimage\n",
    "import importlib\n",
    "import itertools\n",
    "from skimage import io\n",
    "\n",
    "import avul\n",
    "from TestDataset import ImList"
   ]
  },
  {
   "cell_type": "code",
   "execution_count": null,
   "metadata": {
    "id": "7eTaFT0fbVX3"
   },
   "outputs": [],
   "source": [
    "importlib.reload(avul)"
   ]
  },
  {
   "cell_type": "code",
   "execution_count": 2,
   "metadata": {
    "id": "-IL6h_CcbVX4"
   },
   "outputs": [
    {
     "name": "stdout",
     "output_type": "stream",
     "text": [
      "319605\n",
      "5\n",
      "[24 25 30 33 34]\n",
      "207373\n",
      "2\n",
      "[24 34]\n",
      "52979\n",
      "3\n",
      "[ 7 15 34]\n",
      "113242\n",
      "7\n",
      "[ 5  9 15 17 19 30 34]\n",
      "61959\n",
      "1\n",
      "[34]\n",
      "281179\n",
      "1\n",
      "[34]\n",
      "498680\n",
      "1\n",
      "[34]\n",
      "212852\n",
      "1\n",
      "[34]\n",
      "255751\n",
      "3\n",
      "[13 32 34]\n"
     ]
    }
   ],
   "source": [
    "StabCrit = 4\n",
    "ActLevels = []\n",
    "seaRs = []\n",
    "TestActLevels = []\n",
    "TestseaRs = []\n",
    "from IPython.core.debugger import set_trace\n",
    "for x in range(9):\n",
    "    Im = ImList[x]\n",
    "    #get the five biggest connected components in the image\n",
    "    labels_out, tra = ndimage.measurements.label(Im,structure=np.ones((3,3,3)))\n",
    "    FlLab = np.ravel(labels_out)\n",
    "    FlLab = FlLab[np.nonzero(FlLab)]\n",
    "    if FlLab.size>0:\n",
    "        u, indices = np.unique(FlLab, return_inverse=True)\n",
    "        BigComLab = u[np.argmax(np.bincount(indices))]\n",
    "        ComIm = labels_out * (labels_out == BigComLab)\n",
    "        print(np.flatnonzero(ComIm).size)\n",
    "        #Run stablesteps\n",
    "        FiltIm = avul.comfilt(ComIm)\n",
    "        #pdb.set_trace()\n",
    "        points = avul.getpoints(FiltIm)\n",
    "\n",
    "        CurActLevels, CurseaR, EnPts1 = avul.stbsteps(points,StabCrit)\n",
    "        print(CurActLevels)\n",
    "        print(EnPts1)\n",
    "        #set_trace()\n",
    "        ActLevels.append(CurActLevels)\n",
    "        seaRs.append(CurseaR)\n",
    "        #np.savetxt('test'+ str(x) + 'BigComFiltV2NewImp' +'.pts',points,fmt='%1i',delimiter=' ')\n"
   ]
  },
  {
   "cell_type": "code",
   "execution_count": 3,
   "metadata": {},
   "outputs": [
    {
     "data": {
      "text/plain": [
       "[5, 2, 3, 7, 1, 1, 1, 1, 3]"
      ]
     },
     "execution_count": 3,
     "metadata": {},
     "output_type": "execute_result"
    }
   ],
   "source": [
    "ActLevels"
   ]
  },
  {
   "cell_type": "code",
   "execution_count": null,
   "metadata": {},
   "outputs": [],
   "source": []
  }
 ],
 "metadata": {
  "colab": {
   "provenance": []
  },
  "kernelspec": {
   "display_name": "Python 3 (ipykernel)",
   "language": "python",
   "name": "python3"
  },
  "language_info": {
   "codemirror_mode": {
    "name": "ipython",
    "version": 3
   },
   "file_extension": ".py",
   "mimetype": "text/x-python",
   "name": "python",
   "nbconvert_exporter": "python",
   "pygments_lexer": "ipython3",
   "version": "3.7.9"
  }
 },
 "nbformat": 4,
 "nbformat_minor": 4
}
