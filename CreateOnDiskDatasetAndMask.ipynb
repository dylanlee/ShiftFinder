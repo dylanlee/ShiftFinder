{
 "cells": [
  {
   "cell_type": "markdown",
   "metadata": {},
   "source": [
    "## EarthEngine GeoTiff naming convention\n",
    "If you are exporting to GeoTIFF(s), the image is split into tiles. The filename of each tile will be in the form baseFilename-yMin-xMin where xMin and yMin are the coordinates of each tile within the overall bounding box of the exported image."
   ]
  },
  {
   "cell_type": "code",
   "execution_count": 1,
   "metadata": {},
   "outputs": [],
   "source": [
    "import dask.array as da\n",
    "import rasterio\n",
    "import numpy as np\n",
    "import h5py\n",
    "#need to import the warp module seperately\n",
    "import rasterio.warp\n",
    "import rasterio.merge\n",
    "import matplotlib.pyplot as plt"
   ]
  },
  {
   "cell_type": "code",
   "execution_count": null,
   "metadata": {},
   "outputs": [],
   "source": [
    "#import the surface water dataset\n",
    "datasets = []\n",
    "left = 0\n",
    "bottom = 0\n",
    "right = -100\n",
    "top = -100\n",
    "for x in range(1,13):\n",
    "    \n",
    "    dataset = rasterio.open('./GlobalAvulsionData/AltiPlanoProccessOrder/AltiPlanoYearly'+str(x)+'.tif')\n",
    "    print(dataset.bounds)\n",
    "    left1 = dataset.bounds[0]\n",
    "    bottom1 = dataset.bounds[1]\n",
    "    right1 = dataset.bounds[2]\n",
    "    top1 = dataset.bounds[3]\n",
    "    #Get the bounds of the whole study area before cropping\n",
    "    if left1 < left:\n",
    "        left = left1\n",
    "    if bottom1 < bottom:\n",
    "        bottom = bottom1\n",
    "    if right1 > right:\n",
    "        right = right1\n",
    "    if top1 > top:\n",
    "        top = top1\n",
    "        \n",
    "    #append to dataset list\n",
    "    datasets.append(dataset)"
   ]
  },
  {
   "cell_type": "code",
   "execution_count": null,
   "metadata": {},
   "outputs": [],
   "source": [
    "print(left,bottom,right,top)"
   ]
  },
  {
   "cell_type": "code",
   "execution_count": null,
   "metadata": {},
   "outputs": [],
   "source": [
    "Tran = rasterio.transform.from_bounds(left, bottom, right, top, 26580, 37354)\n",
    "rasterio.transform.xy(Tran, 1, 1, offset='center')"
   ]
  },
  {
   "cell_type": "code",
   "execution_count": null,
   "metadata": {},
   "outputs": [],
   "source": [
    "for x in range(1,36):\n",
    "    for y in range(len(datasets)):\n",
    "        print(y)\n",
    "        dataset = datasets[y]\n",
    "        arr = dataset.read(x)\n",
    "        if y < 3:\n",
    "            if y == 0:\n",
    "                fRow = arr\n",
    "            else:\n",
    "                fRow = np.concatenate([fRow,arr],1)\n",
    "        if y >= 3 and y < 6:\n",
    "            if y == 3:\n",
    "                sRow = arr\n",
    "            else:\n",
    "                sRow = np.concatenate([sRow,arr],1)\n",
    "        if y >=6 and y < 9: \n",
    "            if y == 6:\n",
    "                tRow = arr\n",
    "            else:\n",
    "                tRow = np.concatenate([tRow,arr],1)\n",
    "        if y >= 9:\n",
    "            if y == 9:\n",
    "                foRow = arr\n",
    "            else:\n",
    "                foRow = np.concatenate([foRow,arr],1)\n",
    "                \n",
    "    tallFRow = fRow.reshape((1,)+fRow.shape)\n",
    "    tallSRow = sRow.reshape((1,)+sRow.shape)\n",
    "    tallTRow = tRow.reshape((1,)+tRow.shape)\n",
    "    tallFoRow = foRow.reshape((1,)+foRow.shape)\n",
    "\n",
    "    OneYrOcc = np.hstack([tallFRow,tallSRow,tallTRow,tallFoRow])\n",
    "        \n",
    "    if x == 1:\n",
    "        hf = h5py.File('AltiplanoV2.h5', 'w')\n",
    "        hf.create_dataset('Altiplano',data=OneYrOcc, dtype='u2', compression=\"gzip\", chunks=True, maxshape=(None,None,None))\n",
    "    if x > 1:\n",
    "        hf[\"Altiplano\"].resize((hf[\"Altiplano\"].shape[0] + 1), axis = 0)\n",
    "        hf[\"Altiplano\"][-1:] = OneYrOcc\n",
    "#call this to write to disk\n",
    "hf.close()"
   ]
  },
  {
   "cell_type": "code",
   "execution_count": null,
   "metadata": {},
   "outputs": [],
   "source": [
    "#use line below once to reopen the dataset after writing\n",
    "#hf = h5py.File('Altiplano.h5','w')\n",
    "d = hf['./Altiplano']          # Pointer on on-disk array"
   ]
  },
  {
   "cell_type": "code",
   "execution_count": null,
   "metadata": {},
   "outputs": [],
   "source": [
    "OccIm = da.max(d,axis=0)"
   ]
  },
  {
   "cell_type": "code",
   "execution_count": null,
   "metadata": {},
   "outputs": [],
   "source": [
    "from PIL import Image\n",
    "im = Image.fromarray(d[15])\n",
    "im.save(\"your_file.tif\")"
   ]
  },
  {
   "cell_type": "code",
   "execution_count": null,
   "metadata": {},
   "outputs": [],
   "source": [
    "f = h5py.File('OccIm.hdf5', mode='a')"
   ]
  },
  {
   "cell_type": "code",
   "execution_count": null,
   "metadata": {},
   "outputs": [],
   "source": [
    "dset = f.create_dataset('/data', shape=OccIm.shape, chunks=True)"
   ]
  },
  {
   "cell_type": "code",
   "execution_count": null,
   "metadata": {},
   "outputs": [],
   "source": [
    "da.store(OccIm,dset)"
   ]
  },
  {
   "cell_type": "code",
   "execution_count": 3,
   "metadata": {},
   "outputs": [],
   "source": [
    "#now import the mask dataset and merge together. Remember! you are creating the mask around the cropped data you\n",
    "#ended up using not for the full dataset you import above.\n",
    "data1 = rasterio.open('/home/dylan/GlobalAvulsion/GlobalAvulsionData/RiverMaskData/TestRegionMaskData/SD19.tif')\n",
    "data2 = rasterio.open('/home/dylan/GlobalAvulsion/GlobalAvulsionData/RiverMaskData/TestRegionMaskData/SD20.tif')\n",
    "data3 = rasterio.open('/home/dylan/GlobalAvulsion/GlobalAvulsionData/RiverMaskData/TestRegionMaskData/SE19.tif')\n",
    "data4 = rasterio.open('/home/dylan/GlobalAvulsion/GlobalAvulsionData/RiverMaskData/TestRegionMaskData/SE20.tif')"
   ]
  },
  {
   "cell_type": "code",
   "execution_count": null,
   "metadata": {},
   "outputs": [],
   "source": [
    "#get data shape and bounds\n",
    "print(data2.read(1).shape)\n",
    "print(data2.bounds)"
   ]
  },
  {
   "cell_type": "code",
   "execution_count": 4,
   "metadata": {},
   "outputs": [],
   "source": [
    "#Source transforms for the 3 datasets.\n",
    "SrcTran1 = rasterio.transform.from_bounds(173190.0, 8228820.0, 826650.0, 8673540.0, 21782, 14824)\n",
    "SrcTran2 = rasterio.transform.from_bounds(173190.0, 8228820.0, 826650.0, 8673540.0, 21782, 14824)\n",
    "SrcTran3 = rasterio.transform.from_bounds(178800.0, 7785780.0, 821040.0, 8231160.0, 21408, 14846)\n",
    "SrcTran4 = rasterio.transform.from_bounds(178800.0, 7785780.0, 821040.0, 8231160.0, 21408, 14846)"
   ]
  },
  {
   "cell_type": "code",
   "execution_count": 5,
   "metadata": {},
   "outputs": [],
   "source": [
    "#create a transform for the 2 UTM zones into WGS84 lat long(EPSG:4326)\n",
    "#UTM zone 19S id: EPSG:32719\n",
    "crs19 = rasterio.crs.CRS.from_epsg(32719)\n",
    "#UTM zone 20S id: EPSG:32720\n",
    "crs20 = rasterio.crs.CRS.from_epsg(32720)\n",
    "crsWGS = rasterio.crs.CRS.from_epsg(4326)\n",
    "#transform for data1\n",
    "UTM19tran1,newwidth1,newheight1 = rasterio.warp.calculate_default_transform(crs19,crsWGS,21782,14824,left=173190.0, bottom=8228820.0, right=826650.0, top=8673540.0)\n",
    "#make destination array based off newwidth and newheight\n",
    "data1tran = np.zeros((newheight1,newwidth1))\n",
    "\n",
    "#transform for data2\n",
    "UTM20tran1,newwidth2,newheight2 = rasterio.warp.calculate_default_transform(crs20,crsWGS,21782,14824,left=173190.0, bottom=8228820.0, right=826650.0, top=8673540.0)\n",
    "#make destination array based off newwidth and newheight\n",
    "data2tran = np.zeros((newheight2,newwidth2))\n",
    "\n",
    "#transform for data3\n",
    "UTM19tran2,newwidth3,newheight3 = rasterio.warp.calculate_default_transform(crs19,crsWGS,21408,14846,left=178800.0, bottom=7785780.0, right=821040.0, top=8231160.0)\n",
    "#make destination array based off newwidth and newheight\n",
    "data3tran = np.zeros((newheight3,newwidth3))\n",
    "\n",
    "#transform for data4\n",
    "UTM20tran2,newwidth4,newheight4 = rasterio.warp.calculate_default_transform(crs20,crsWGS,21408,14846,left=178800.0, bottom=7785780.0, right=821040.0, top=8231160.0)\n",
    "#make destination array based off newwidth and newheight\n",
    "data4tran = np.zeros((newheight4,newwidth4))"
   ]
  },
  {
   "cell_type": "code",
   "execution_count": 6,
   "metadata": {},
   "outputs": [
    {
     "data": {
      "text/plain": [
       "(array([[0., 0., 0., ..., 0., 0., 0.],\n",
       "        [0., 0., 0., ..., 0., 0., 0.],\n",
       "        [0., 0., 0., ..., 0., 0., 0.],\n",
       "        ...,\n",
       "        [0., 0., 0., ..., 0., 0., 0.],\n",
       "        [0., 0., 0., ..., 0., 0., 0.],\n",
       "        [0., 0., 0., ..., 0., 0., 0.]]),\n",
       " Affine(0.00027941101328185643, 0.0, -66.06942332184036,\n",
       "        0.0, -0.00027941101328185643, -15.978193309871381))"
      ]
     },
     "execution_count": 6,
     "metadata": {},
     "output_type": "execute_result"
    }
   ],
   "source": [
    "#reproject data 1\n",
    "rasterio.warp.reproject(data1.read(),destination = data1tran,src_transform=SrcTran1,dst_transform=UTM19tran1,src_crs=crs19,dst_crs=crsWGS)\n",
    "#reproject data 2\n",
    "rasterio.warp.reproject(data2.read(),destination = data2tran,src_transform=SrcTran2,dst_transform=UTM20tran1,src_crs=crs20,dst_crs=crsWGS)\n",
    "#reproject data 3\n",
    "rasterio.warp.reproject(data3.read(),destination = data3tran,src_transform=SrcTran3,dst_transform=UTM19tran2,src_crs=crs19,dst_crs=crsWGS)\n",
    "#reproject data 4\n",
    "rasterio.warp.reproject(data4.read(),destination = data4tran,src_transform=SrcTran4,dst_transform=UTM20tran2,src_crs=crs20,dst_crs=crsWGS)"
   ]
  },
  {
   "cell_type": "code",
   "execution_count": 7,
   "metadata": {},
   "outputs": [],
   "source": [
    "#now rewrite reprojected data using your new transforms so that you can merge them. Only need to do this once!!!\n",
    "data1reproj = rasterio.open('/home/dylan/GlobalAvulsion/GlobalAvulsionData/RiverMaskData/TestRegionMaskData/SD19WGS84.tif',\n",
    "                            'w', driver='GTiff', height=data1tran.shape[0], width=data1tran.shape[1], count=1,\n",
    "                            dtype=data1tran.dtype, crs=crsWGS, transform=UTM19tran1)\n",
    "data1reproj.write(data1tran,1)\n",
    "#need to close to sync written data to disk\n",
    "data1reproj.close()\n",
    "\n",
    "data2reproj = rasterio.open('/home/dylan/GlobalAvulsion/GlobalAvulsionData/RiverMaskData/TestRegionMaskData/SD20WGS84.tif',\n",
    "                            'w', driver='GTiff', height=data2tran.shape[0], width=data2tran.shape[1], count=1,\n",
    "                            dtype=data2tran.dtype, crs=crsWGS, transform=UTM20tran1)\n",
    "data2reproj.write(data2tran,1)\n",
    "data2reproj.close()\n",
    "\n",
    "data3reproj = rasterio.open('/home/dylan/GlobalAvulsion/GlobalAvulsionData/RiverMaskData/TestRegionMaskData/SE19WGS84.tif',\n",
    "                            'w', driver='GTiff', height=data3tran.shape[0], width=data3tran.shape[1], count=1,\n",
    "                            dtype=data3tran.dtype, crs=crsWGS, transform=UTM19tran2)\n",
    "data3reproj.write(data3tran,1)\n",
    "data3reproj.close()\n",
    "\n",
    "data4reproj = rasterio.open('/home/dylan/GlobalAvulsion/GlobalAvulsionData/RiverMaskData/TestRegionMaskData/SE20WGS84.tif',\n",
    "                            'w', driver='GTiff', height=data4tran.shape[0], width=data4tran.shape[1], count=1,\n",
    "                            dtype=data4tran.dtype, crs=crsWGS, transform=UTM20tran2)\n",
    "data4reproj.write(data4tran,1)\n",
    "data4reproj.close()"
   ]
  },
  {
   "cell_type": "code",
   "execution_count": 8,
   "metadata": {},
   "outputs": [],
   "source": [
    "#now reopen synced data in 'r' mode and merge datasets\n",
    "data1reproj = rasterio.open('/home/dylan/GlobalAvulsion/GlobalAvulsionData/RiverMaskData/TestRegionMaskData/SD19WGS84.tif')\n",
    "data2reproj = rasterio.open('/home/dylan/GlobalAvulsion/GlobalAvulsionData/RiverMaskData/TestRegionMaskData/SD20WGS84.tif')\n",
    "data3reproj = rasterio.open('/home/dylan/GlobalAvulsion/GlobalAvulsionData/RiverMaskData/TestRegionMaskData/SE19WGS84.tif')\n",
    "data4reproj = rasterio.open('/home/dylan/GlobalAvulsion/GlobalAvulsionData/RiverMaskData/TestRegionMaskData/SE20WGS84.tif')\n",
    "\n",
    "#cropping actually gets done in this line! The second argument allows you to set bounds that are different than the merged data bounds\n",
    "#bounds of your cropped surface water data:(-68.6533413469566,-17.202782606653027,-64.611192063004,-13.160633322700418)\n",
    "mergDat,mergedtransform = rasterio.merge.merge([data1reproj,data2reproj,data3reproj],(-68.6533413469566,-17.202782606653027,-64.611192063004,-13.160633322700418))"
   ]
  },
  {
   "cell_type": "code",
   "execution_count": 9,
   "metadata": {},
   "outputs": [
    {
     "data": {
      "text/plain": [
       "(array([[0., 0., 0., ..., 0., 0., 0.],\n",
       "        [0., 0., 0., ..., 0., 0., 0.],\n",
       "        [0., 0., 0., ..., 0., 0., 0.],\n",
       "        ...,\n",
       "        [0., 0., 0., ..., 0., 0., 0.],\n",
       "        [0., 0., 0., ..., 0., 0., 0.],\n",
       "        [0., 0., 0., ..., 0., 0., 0.]]),\n",
       " Affine(0.0002694945852358555, 0.0, -68.6533413469566,\n",
       "        0.0, -0.00026949458523585636, -13.160633322700418))"
      ]
     },
     "execution_count": 9,
     "metadata": {},
     "output_type": "execute_result"
    }
   ],
   "source": [
    "#reproject one more time to get the scales to match up exactly (the two transforms are .00001 off in lat and long)\n",
    "mergDatReProj = np.zeros((14999,14999))\n",
    "mertran = rasterio.transform.from_bounds(-68.6533413469566,-17.202782606653027,-64.611192063004,-13.160633322700418, 14999, 14999)\n",
    "rasterio.warp.reproject(mergDat,destination = mergDatReProj,src_transform=mergedtransform,dst_transform=mertran,src_crs=crsWGS,dst_crs=crsWGS)"
   ]
  },
  {
   "cell_type": "code",
   "execution_count": 11,
   "metadata": {},
   "outputs": [
    {
     "data": {
      "text/plain": [
       "Affine(0.000269494585235856, 0.0, -71.61791653184363,\n",
       "       0.0, -0.0002694945852358564, -13.1604985754078)"
      ]
     },
     "execution_count": 11,
     "metadata": {},
     "output_type": "execute_result"
    }
   ],
   "source": [
    "left = -71.61791653184363 \n",
    "bottom = -23.22719931230798 \n",
    "right = -64.45475045627458 \n",
    "top = -13.1604985754078\n",
    "Tran = rasterio.transform.from_bounds(left, bottom, right, top, 26580, 37354)\n",
    "Tran"
   ]
  },
  {
   "cell_type": "code",
   "execution_count": 12,
   "metadata": {},
   "outputs": [],
   "source": [
    "#now save the georeferenced river mask for your study area!\n",
    "mergDatmask = mergDatReProj\n",
    "mergDatmask[mergDatmask != 255] = 0\n",
    "regionmask = rasterio.open('/home/dylan/GlobalAvulsion/GlobalAvulsionData/RiverMaskData/FinalTestRegionMask.tif',\n",
    "                            'w', driver='GTiff', height=14999, width=14999, count=1,\n",
    "                            dtype=mergDatmask.dtype, crs=crsWGS, transform=mertran)\n",
    "regionmask.write(mergDatmask,1)\n",
    "regionmask.close()"
   ]
  },
  {
   "cell_type": "code",
   "execution_count": 14,
   "metadata": {},
   "outputs": [
    {
     "data": {
      "text/plain": [
       "(14999, 14999)"
      ]
     },
     "execution_count": 14,
     "metadata": {},
     "output_type": "execute_result"
    }
   ],
   "source": [
    "mergDatReProj.shape"
   ]
  },
  {
   "cell_type": "code",
   "execution_count": null,
   "metadata": {},
   "outputs": [],
   "source": []
  }
 ],
 "metadata": {
  "environment": {
   "name": "common-cpu.m69",
   "type": "gcloud",
   "uri": "gcr.io/deeplearning-platform-release/base-cpu:m69"
  },
  "kernelspec": {
   "display_name": "Python 3",
   "language": "python",
   "name": "python3"
  },
  "language_info": {
   "codemirror_mode": {
    "name": "ipython",
    "version": 3
   },
   "file_extension": ".py",
   "mimetype": "text/x-python",
   "name": "python",
   "nbconvert_exporter": "python",
   "pygments_lexer": "ipython3",
   "version": "3.7.10"
  }
 },
 "nbformat": 4,
 "nbformat_minor": 4
}
