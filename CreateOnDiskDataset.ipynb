{
 "cells": [
  {
   "cell_type": "markdown",
   "metadata": {},
   "source": [
    "## EarthEngine GeoTiff naming convention\n",
    "If you are exporting to GeoTIFF(s), the image is split into tiles. The filename of each tile will be in the form baseFilename-yMin-xMin where xMin and yMin are the coordinates of each tile within the overall bounding box of the exported image."
   ]
  },
  {
   "cell_type": "code",
   "execution_count": 2,
   "metadata": {},
   "outputs": [],
   "source": [
    "from dask import array\n",
    "import rasterio\n",
    "import numpy as np\n",
    "import h5py\n",
    "#need to import the warp module seperately\n",
    "import rasterio.warp\n",
    "import rasterio.merge\n",
    "import matplotlib.pyplot as plt"
   ]
  },
  {
   "cell_type": "code",
   "execution_count": null,
   "metadata": {},
   "outputs": [],
   "source": [
    "#import the surface water dataset\n",
    "datasets = []\n",
    "left = 0\n",
    "bottom = 0\n",
    "right = -100\n",
    "top = -100\n",
    "for x in range(1,13):\n",
    "    \n",
    "    dataset = rasterio.open('./GlobalAvulsionData/AltiPlanoProccessOrder/AltiPlanoYearly'+str(x)+'.tif')\n",
    "    print(dataset.bounds)\n",
    "    left1 = dataset.bounds[0]\n",
    "    bottom1 = dataset.bounds[1]\n",
    "    right1 = dataset.bounds[2]\n",
    "    top1 = dataset.bounds[3]\n",
    "    #Get the bounds of the whole study area before cropping\n",
    "    if left1 < left:\n",
    "        left = left1\n",
    "    if bottom1 < bottom:\n",
    "        bottom = bottom1\n",
    "    if right1 > right:\n",
    "        right = right1\n",
    "    if top1 > top:\n",
    "        top = top1\n",
    "        \n",
    "    #append to dataset list\n",
    "    datasets.append(dataset)"
   ]
  },
  {
   "cell_type": "code",
   "execution_count": null,
   "metadata": {},
   "outputs": [],
   "source": [
    "print(left,bottom,right,top)"
   ]
  },
  {
   "cell_type": "code",
   "execution_count": null,
   "metadata": {},
   "outputs": [],
   "source": [
    "Tran = rasterio.transform.from_bounds(left, bottom, right, top, 26580, 37354)\n",
    "rasterio.transform.xy(Tran, 1, 1, offset='center')"
   ]
  },
  {
   "cell_type": "code",
   "execution_count": null,
   "metadata": {},
   "outputs": [],
   "source": [
    "for x in range(1,36):\n",
    "    for y in range(len(datasets)):\n",
    "        print(y)\n",
    "        dataset = datasets[y]\n",
    "        arr = dataset.read(x)\n",
    "        if y < 3:\n",
    "            if y == 0:\n",
    "                fRow = arr\n",
    "            else:\n",
    "                fRow = np.concatenate([fRow,arr],1)\n",
    "        if y >= 3 and y < 6:\n",
    "            if y == 3:\n",
    "                sRow = arr\n",
    "            else:\n",
    "                sRow = np.concatenate([sRow,arr],1)\n",
    "        if y >=6 and y < 9: \n",
    "            if y == 6:\n",
    "                tRow = arr\n",
    "            else:\n",
    "                tRow = np.concatenate([tRow,arr],1)\n",
    "        if y >= 9:\n",
    "            if y == 9:\n",
    "                foRow = arr\n",
    "            else:\n",
    "                foRow = np.concatenate([foRow,arr],1)\n",
    "                \n",
    "    tallFRow = fRow.reshape((1,)+fRow.shape)\n",
    "    tallSRow = sRow.reshape((1,)+sRow.shape)\n",
    "    tallTRow = tRow.reshape((1,)+tRow.shape)\n",
    "    tallFoRow = foRow.reshape((1,)+foRow.shape)\n",
    "\n",
    "    OneYrOcc = np.hstack([tallFRow,tallSRow,tallTRow,tallFoRow])\n",
    "        \n",
    "    if x == 1:\n",
    "        hf = h5py.File('AltiplanoV2.h5', 'w')\n",
    "        hf.create_dataset('Altiplano',data=OneYrOcc, dtype='u2', compression=\"gzip\", chunks=True, maxshape=(None,None,None))\n",
    "    if x > 1:\n",
    "        hf[\"Altiplano\"].resize((hf[\"Altiplano\"].shape[0] + 1), axis = 0)\n",
    "        hf[\"Altiplano\"][-1:] = OneYrOcc\n",
    "#call this to write to disk\n",
    "hf.close()"
   ]
  },
  {
   "cell_type": "code",
   "execution_count": null,
   "metadata": {},
   "outputs": [],
   "source": [
    "#use line below once to reopen the dataset after writing\n",
    "#need to use the 'r' option instead of 'a' for dask distributed to work\n",
    "hf = h5py.File('./Altiplano.h5','r')\n",
    "d = hf['./Altiplano']          # Pointer on on-disk array\n",
    "\n",
    "#convert the on-disk array to a dask array\n",
    "Im = array.from_array(d,chunks='auto')"
   ]
  },
  {
   "cell_type": "code",
   "execution_count": null,
   "metadata": {},
   "outputs": [],
   "source": [
    "#image shape should be (35,37354,26580)\n",
    "Im.shape"
   ]
  },
  {
   "cell_type": "code",
   "execution_count": 14,
   "metadata": {},
   "outputs": [
    {
     "data": {
      "text/plain": [
       "(14999, 14999)"
      ]
     },
     "execution_count": 14,
     "metadata": {},
     "output_type": "execute_result"
    }
   ],
   "source": [
    "#trim and rechunk matrix\n",
    "\n",
    "#Study area \n",
    "#Im = Im[0:35,0:16384,10016:26400]\n",
    "\n",
    "#small test window for computers with less memory than 32gb\n",
    "Im = Im[0:35,0:5475,10016:15491]"
   ]
  },
  {
   "cell_type": "code",
   "execution_count": 3,
   "metadata": {},
   "outputs": [],
   "source": [
    "#now import the mask dataset. Only doing this here so it can be \n",
    "#cropped if necessary for testing on a lower memory machine. \n",
    "mask = plt.imread('./WholeTestAreaTempCenterlinesThreshold1.png')\n",
    "mask[mask == 255] = 1\n",
    "#trim mask if running small test window\n",
    "cutmask = mask"
   ]
  },
  {
   "cell_type": "code",
   "execution_count": 11,
   "metadata": {},
   "outputs": [
    {
     "data": {
      "text/plain": [
       "Affine(0.000269494585235856, 0.0, -71.61791653184363,\n",
       "       0.0, -0.0002694945852358564, -13.1604985754078)"
      ]
     },
     "execution_count": 11,
     "metadata": {},
     "output_type": "execute_result"
    }
   ],
   "source": [
    "#get lat-long locations of corners of cropped image. This is helpful\n",
    "#in a later part of the analysis when you need to get another transform\n",
    "#to determine the geographical center of active region\n",
    "left = -71.61791653184363 \n",
    "bottom = -23.22719931230798 \n",
    "right = -64.45475045627458 \n",
    "top = -13.1604985754078\n",
    "Tran = rasterio.transform.from_bounds(left, bottom, right, top, 26580, 37354)\n",
    "rasterio.transform.xy(Tran, [0,0,16384,16384], [10016,26400,10016,26400], offset='center')"
   ]
  },
  {
   "cell_type": "code",
   "execution_count": null,
   "metadata": {},
   "outputs": [],
   "source": [
    "#study area image shape should be (35,16384,16384)\n",
    "#small test window shape should be (35,5475,5475)\n",
    "Im.shape"
   ]
  },
  {
   "cell_type": "code",
   "execution_count": null,
   "metadata": {},
   "outputs": [],
   "source": [
    "#save image and mask that will be analyzed in the \"RunTiles\" notebook\n"
   ]
  }
 ],
 "metadata": {
  "environment": {
   "name": "common-cpu.m69",
   "type": "gcloud",
   "uri": "gcr.io/deeplearning-platform-release/base-cpu:m69"
  },
  "kernelspec": {
   "display_name": "Python 3",
   "language": "python",
   "name": "python3"
  },
  "language_info": {
   "codemirror_mode": {
    "name": "ipython",
    "version": 3
   },
   "file_extension": ".py",
   "mimetype": "text/x-python",
   "name": "python",
   "nbconvert_exporter": "python",
   "pygments_lexer": "ipython3",
   "version": "3.8.8"
  }
 },
 "nbformat": 4,
 "nbformat_minor": 4
}
