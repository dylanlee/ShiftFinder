{
 "cells": [
  {
   "cell_type": "code",
   "execution_count": 1,
   "id": "768b7c6d",
   "metadata": {},
   "outputs": [],
   "source": [
    "#load modules\n",
    "import numpy as np\n",
    "import matplotlib.pyplot as plt\n",
    "import h5py\n",
    "import avulHPC\n",
    "import rasterio"
   ]
  },
  {
   "cell_type": "code",
   "execution_count": 2,
   "id": "8d6083c5",
   "metadata": {},
   "outputs": [],
   "source": [
    "#avulsions that have been both found by the method and previously found are at index locations 3 and 4 in this list\n",
    "PrvFndAvLong = [-66.1590,-66.3622,-66.3509,-65.8537,-65.8378,-65.4020,-65.2262,-65.2152,-65.3422,-65.3340,-65.3038,-64.8657,-64.6130]\n",
    "PrvFndAvLat  = [-16.0657,-15.8689,-15.7946,-15.8940,-16.3224,-16.8264,-16.4686,-16.2683,-16.9395,-16.9539,-17.0025,-17.2099,-17.3135]"
   ]
  },
  {
   "cell_type": "code",
   "execution_count": 3,
   "id": "e228050e",
   "metadata": {},
   "outputs": [],
   "source": [
    "#load mask. Only need to run this cell on images that haven't been re-georeferenced using the rasterio.open command in one of the cells below\n",
    "mask = plt.imread('WholeTestAreaDeepwaterPlusManualMask.png')\n",
    "#mask = plt.imread('WholeTestAreaTempCenterlinesThreshold1.png')\n",
    "mask[mask == 255] = 1"
   ]
  },
  {
   "cell_type": "code",
   "execution_count": 12,
   "id": "7a9d6aad",
   "metadata": {},
   "outputs": [],
   "source": [
    "mask = mask.astype('uint8') "
   ]
  },
  {
   "cell_type": "code",
   "execution_count": 13,
   "id": "ee702563",
   "metadata": {},
   "outputs": [],
   "source": [
    "#make it so that you can get the lat long of each pixel in the mask\n",
    "#Do this by getting transform for image\n",
    "left = -68.91852401882868\n",
    "bottom = -17.576032607204688 \n",
    "right = -64.50312473432442\n",
    "top = -13.160633322700418\n",
    "MaskTran = rasterio.transform.from_bounds(left, bottom, right, top, 16384, 16384)"
   ]
  },
  {
   "cell_type": "code",
   "execution_count": 14,
   "id": "11929274",
   "metadata": {},
   "outputs": [],
   "source": [
    "# re-georeference the mask using the surface water dataset cooridante reference system (epsg 4326)\n",
    "RasterMask = rasterio.open('./WholeTestAreaDeepwaterPlusManualMask.png', 'w', driver='PNG',\n",
    "                            height = 16384, width = 16384,\n",
    "                            count=1, dtype = 'uint8',\n",
    "                            crs=rasterio.crs.CRS.from_epsg(4326),\n",
    "                            transform=MaskTran)"
   ]
  },
  {
   "cell_type": "code",
   "execution_count": 15,
   "id": "865554b2",
   "metadata": {},
   "outputs": [],
   "source": [
    "RasterMask.write(mask,1)"
   ]
  },
  {
   "cell_type": "code",
   "execution_count": 16,
   "id": "1531fdff",
   "metadata": {},
   "outputs": [],
   "source": [
    "RasterMask.close()"
   ]
  },
  {
   "cell_type": "code",
   "execution_count": 18,
   "id": "cc13a333",
   "metadata": {},
   "outputs": [],
   "source": [
    "RasterMask = rasterio.open('./WholeTestAreaDeepwaterPlusManualMask.png', 'r')"
   ]
  },
  {
   "cell_type": "code",
   "execution_count": 33,
   "id": "692cf941",
   "metadata": {},
   "outputs": [
    {
     "name": "stdout",
     "output_type": "stream",
     "text": [
      "Window(col_off=10199, row_off=10739, width=80, height=80)\n",
      "Window(col_off=9445, row_off=10009, width=80, height=80)\n",
      "Window(col_off=9487, row_off=9733, width=80, height=80)\n",
      "Window(col_off=11332, row_off=10102, width=80, height=80)\n",
      "Window(col_off=11391, row_off=11692, width=80, height=80)\n",
      "Window(col_off=13008, row_off=13562, width=80, height=80)\n",
      "Window(col_off=13660, row_off=12234, width=80, height=80)\n",
      "Window(col_off=13701, row_off=11491, width=80, height=80)\n",
      "Window(col_off=13230, row_off=13982, width=80, height=80)\n",
      "Window(col_off=13260, row_off=14035, width=80, height=80)\n",
      "Window(col_off=13372, row_off=14215, width=80, height=80)\n",
      "Window(col_off=14998, row_off=14985, width=80, height=80)\n",
      "Window(col_off=15936, row_off=15369, width=80, height=80)\n"
     ]
    }
   ],
   "source": [
    "#now go pixel by pixel and if it is a white pixel see if it matches up with the previously found avulsions (with a tolerance factor)\n",
    "tol = 80 #tol is the number of pixels you will look around the pixel to see if water is present. Make this the equivalent of about .02 degrees. 80x80 pixels pretty good \n",
    "IsAvulMasked = np.zeros(13)\n",
    "for x in range(13):\n",
    "    long = PrvFndAvLong[x]\n",
    "    lat = PrvFndAvLat[x]\n",
    "    py, px = RasterMask.index(long,lat)\n",
    "    #now search in a tol x tol sized window around the location\n",
    "    # Build an NxN window\n",
    "    window = rasterio.windows.Window(px - tol//2, py - tol//2, tol, tol)\n",
    "    print(window)\n",
    "\n",
    "    # Read the data in the window\n",
    "    # clip is a nbands * N * N numpy array\n",
    "    clip = RasterMask.read(window=window)\n",
    "    #want at least 1% of window area to contain data\n",
    "    if np.sum(clip)>64:\n",
    "        IsAvulMasked[x] = 0\n",
    "    else:\n",
    "        IsAvulMasked[x] = 1"
   ]
  },
  {
   "cell_type": "code",
   "execution_count": 10,
   "id": "1414f836",
   "metadata": {},
   "outputs": [],
   "source": [
    "pixloc = RasterMask.index(long,lat)"
   ]
  },
  {
   "cell_type": "code",
   "execution_count": 22,
   "id": "0d069c2d",
   "metadata": {},
   "outputs": [],
   "source": [
    "mask = RasterMask.read(1)"
   ]
  },
  {
   "cell_type": "code",
   "execution_count": 34,
   "id": "04d4737f",
   "metadata": {},
   "outputs": [
    {
     "data": {
      "text/plain": [
       "array([1., 1., 1., 0., 0., 1., 1., 0., 1., 0., 0., 1., 1.])"
      ]
     },
     "execution_count": 34,
     "metadata": {},
     "output_type": "execute_result"
    }
   ],
   "source": [
    "IsAvulMasked"
   ]
  }
 ],
 "metadata": {
  "environment": {
   "name": "common-cpu.m69",
   "type": "gcloud",
   "uri": "gcr.io/deeplearning-platform-release/base-cpu:m69"
  },
  "kernelspec": {
   "display_name": "Python 3",
   "language": "python",
   "name": "python3"
  },
  "language_info": {
   "codemirror_mode": {
    "name": "ipython",
    "version": 3
   },
   "file_extension": ".py",
   "mimetype": "text/x-python",
   "name": "python",
   "nbconvert_exporter": "python",
   "pygments_lexer": "ipython3",
   "version": "3.7.10"
  }
 },
 "nbformat": 4,
 "nbformat_minor": 5
}
